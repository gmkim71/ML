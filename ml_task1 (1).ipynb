{
 "cells": [
  {
   "cell_type": "code",
   "execution_count": 6,
   "id": "d303c3ba",
   "metadata": {},
   "outputs": [],
   "source": [
    "#MNIST 데이터로 주어진 모델을 훈련시키고, 모델들에 대한 훈련 결과를 출력하세요\n",
    "#1. 훈련, 검증, 테스트 셋을 나눔\n",
    "#2. Random Forest tree와 엑스트리 트리(ExtraTreeClassifier)를 각각 생성하되, 트리 규제를 적어도 한가지를 추가하여 동일 조건으로 \n",
    "#두 트리를 생성하여 비교하고 테스트에 대한 정확도를 출력함"
   ]
  },
  {
   "cell_type": "code",
   "execution_count": null,
   "id": "5e624624",
   "metadata": {},
   "outputs": [],
   "source": [
    "#규제조건 min_samples_split=5 한 가지가 동일할 경우,"
   ]
  },
  {
   "cell_type": "code",
   "execution_count": 8,
   "id": "d7c24fb5",
   "metadata": {},
   "outputs": [],
   "source": [
    "from sklearn.datasets import fetch_openml\n",
    "from sklearn.model_selection import train_test_split\n",
    "from sklearn.ensemble import RandomForestClassifier, ExtraTreesClassifier\n",
    "from sklearn.metrics import accuracy_score\n",
    "\n",
    "# MNIST 데이터 로드\n",
    "mnist = fetch_openml('mnist_784', version=1)\n",
    "\n",
    "# 특성과 타겟 데이터 추출\n",
    "X, y = mnist['data'], mnist['target']\n",
    "\n",
    "# 훈련, 검증, 테스트 세트로 데이터 분할 (60%, 20%, 20% 비율)\n",
    "X_train, X_test, y_train, y_test = train_test_split(X, y, test_size=0.2, random_state=42)\n",
    "X_train, X_val, y_train, y_val = train_test_split(X_train, y_train, test_size=0.25, random_state=42)"
   ]
  },
  {
   "cell_type": "code",
   "execution_count": 9,
   "id": "af48e065",
   "metadata": {},
   "outputs": [
    {
     "data": {
      "text/plain": [
       "ExtraTreesClassifier(min_samples_split=5, random_state=42)"
      ]
     },
     "execution_count": 9,
     "metadata": {},
     "output_type": "execute_result"
    }
   ],
   "source": [
    "# Random Forest 모델 생성 및 훈련\n",
    "rf_model = RandomForestClassifier(n_estimators=100, min_samples_split=5, random_state=42)\n",
    "rf_model.fit(X_train, y_train)\n",
    "\n",
    "# ExtraTreeClassifier 모델 생성 및 훈련\n",
    "et_model = ExtraTreesClassifier(n_estimators=100, min_samples_split=5, random_state=42)\n",
    "et_model.fit(X_train, y_train)"
   ]
  },
  {
   "cell_type": "code",
   "execution_count": 10,
   "id": "298f051d",
   "metadata": {},
   "outputs": [
    {
     "name": "stdout",
     "output_type": "stream",
     "text": [
      "Random Forest 테스트 정확도: 0.9628571428571429\n",
      "ExtraTreeClassifier 테스트 정확도: 0.9666428571428571\n"
     ]
    }
   ],
   "source": [
    "# Random Forest 모델의 테스트 정확도 계산 및 출력\n",
    "rf_predictions = rf_model.predict(X_test)\n",
    "rf_accuracy = accuracy_score(y_test, rf_predictions)\n",
    "print(\"Random Forest 테스트 정확도:\", rf_accuracy)\n",
    "\n",
    "# ExtraTreeClassifier 모델의 테스트 정확도 계산 및 출력\n",
    "et_predictions = et_model.predict(X_test)\n",
    "et_accuracy = accuracy_score(y_test, et_predictions)\n",
    "print(\"ExtraTreeClassifier 테스트 정확도:\", et_accuracy)"
   ]
  },
  {
   "cell_type": "code",
   "execution_count": 11,
   "id": "7e9bc6a7",
   "metadata": {},
   "outputs": [],
   "source": [
    "#규제조건 min_samples_split=5, max_depth=10 두 가지가 동일할 경우,"
   ]
  },
  {
   "cell_type": "code",
   "execution_count": 12,
   "id": "f9ed18b8",
   "metadata": {},
   "outputs": [
    {
     "name": "stdout",
     "output_type": "stream",
     "text": [
      "Random Forest 테스트 정확도: 0.9424285714285714\n",
      "ExtraTreeClassifier 테스트 정확도: 0.9362142857142857\n"
     ]
    }
   ],
   "source": [
    "from sklearn.datasets import fetch_openml\n",
    "from sklearn.model_selection import train_test_split\n",
    "from sklearn.ensemble import RandomForestClassifier, ExtraTreesClassifier\n",
    "from sklearn.metrics import accuracy_score\n",
    "\n",
    "# MNIST 데이터 로드\n",
    "mnist = fetch_openml('mnist_784', version=1)\n",
    "\n",
    "# 특성과 타겟 데이터 추출\n",
    "X, y = mnist['data'], mnist['target']\n",
    "\n",
    "# 훈련, 검증, 테스트 세트로 데이터 분할 (60%, 20%, 20% 비율)\n",
    "X_train, X_test, y_train, y_test = train_test_split(X, y, test_size=0.2, random_state=42)\n",
    "X_train, X_val, y_train, y_val = train_test_split(X_train, y_train, test_size=0.25, random_state=42)\n",
    "\n",
    "# Random Forest 모델 생성 및 훈련\n",
    "rf_model = RandomForestClassifier(n_estimators=100, min_samples_split=5, max_depth=10, random_state=42)\n",
    "rf_model.fit(X_train, y_train)\n",
    "\n",
    "# ExtraTreeClassifier 모델 생성 및 훈련\n",
    "et_model = ExtraTreesClassifier(n_estimators=100, min_samples_split=5, max_depth=10, random_state=42)\n",
    "et_model.fit(X_train, y_train)\n",
    "\n",
    "# Random Forest 모델의 테스트 정확도 계산 및 출력\n",
    "rf_predictions = rf_model.predict(X_test)\n",
    "rf_accuracy = accuracy_score(y_test, rf_predictions)\n",
    "print(\"Random Forest 테스트 정확도:\", rf_accuracy)\n",
    "\n",
    "# ExtraTreeClassifier 모델의 테스트 정확도 계산 및 출력\n",
    "et_predictions = et_model.predict(X_test)\n",
    "et_accuracy = accuracy_score(y_test, et_predictions)\n",
    "print(\"ExtraTreeClassifier 테스트 정확도:\", et_accuracy)"
   ]
  },
  {
   "cell_type": "code",
   "execution_count": null,
   "id": "3a86f0ca",
   "metadata": {},
   "outputs": [],
   "source": []
  }
 ],
 "metadata": {
  "kernelspec": {
   "display_name": "Python 3 (ipykernel)",
   "language": "python",
   "name": "python3"
  },
  "language_info": {
   "codemirror_mode": {
    "name": "ipython",
    "version": 3
   },
   "file_extension": ".py",
   "mimetype": "text/x-python",
   "name": "python",
   "nbconvert_exporter": "python",
   "pygments_lexer": "ipython3",
   "version": "3.9.13"
  }
 },
 "nbformat": 4,
 "nbformat_minor": 5
}
